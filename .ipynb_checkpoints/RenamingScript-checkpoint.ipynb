{
 "cells": [
  {
   "cell_type": "code",
   "execution_count": 3,
   "metadata": {},
   "outputs": [
    {
     "name": "stdout",
     "output_type": "stream",
     "text": [
      "Renamed file 2018-11-13 08.00.45.mov to Day1-Lunar-210mms.mov\n",
      "Renamed file 2018-11-13 07.59.29.mov to Day1-Lunar-70mms.mov\n",
      "Renamed file 2018-11-13 07.58.04.mov to Day1-Martian-130mms.mov\n",
      "Renamed file 2018-11-13 07.56.49.mov to Day1-Martian-210mms.mov\n",
      "Renamed file 2018-11-13 07.55.37.mov to Day1-Martian-70mms.mov\n",
      "Renamed file 2018-11-13 08.17.18.mov to Day1-Micro-110mms-1.mov\n",
      "Renamed file 2018-11-13 08.34.56.mov to Day1-Micro-110mms-2.mov\n",
      "Renamed file 2018-11-13 08.07.49.mov to Day1-Micro-130mms-1.mov\n",
      "Renamed file 2018-11-13 08.27.10.mov to Day1-Micro-130mms-2.mov\n",
      "Renamed file 2018-11-13 08.43.55.mov to Day1-Micro-130mms-3.mov\n",
      "Renamed file 2018-11-13 08.06.30.mov to Day1-Micro-150mms-1.mov\n",
      "Renamed file 2018-11-13 08.25.45.mov to Day1-Micro-150mms-2.mov\n",
      "Renamed file 2018-11-13 08.42.37.mov to Day1-Micro-150mms-3.mov\n",
      "Renamed file 2018-11-13 08.09.07.mov to Day1-Micro-170mms-1.mov\n",
      "Renamed file 2018-11-13 08.28.29.mov to Day1-Micro-170mms-2.mov\n",
      "Renamed file 2018-11-13 08.45.13.mov to Day1-Micro-170mms-3.mov\n",
      "Renamed file 2018-11-13 08.18.38.mov to Day1-Micro-190mms-1.mov\n",
      "Renamed file 2018-11-13 08.36.14.mov to Day1-Micro-190mms-2.mov\n",
      "Renamed file 2018-11-13 08.05.13.mov to Day1-Micro-210mms-1.mov\n",
      "Renamed file 2018-11-13 08.19.57.mov to Day1-Micro-210mms-2.mov\n",
      "Renamed file 2018-11-13 08.24.30.mov to Day1-Micro-210mms-3.mov\n",
      "Renamed file 2018-11-13 08.37.34.mov to Day1-Micro-210mms-4.mov\n",
      "Renamed file 2018-11-13 08.41.17.mov to Day1-Micro-210mms-5.mov\n",
      "Renamed file 2018-11-13 08.16.05.mov to Day1-Micro-230mms-1.mov\n",
      "Renamed file 2018-11-13 08.33.38.mov to Day1-Micro-230mms-1.mov\n",
      "Renamed file 2018-11-13 08.03.53.mov to Day1-Micro-70mms-1.mov\n",
      "Renamed file 2018-11-13 08.23.12.mov to Day1-Micro-70mms-2.mov\n",
      "Renamed file 2018-11-13 08.40.00.mov to Day1-Micro-70mms-3.mov\n",
      "Renamed file 2018-11-13 08.14.47.mov to Day1-Micro-90mms-1.mov\n",
      "Renamed file 2018-11-13 08.32.20.mov to Day1-Micro-90mms-2.mov\n",
      "Renamed file 2018-11-13 07.33.47.mov to nan\n"
     ]
    }
   ],
   "source": [
    "import os\n",
    "import pandas as pd\n",
    "\n",
    "nameData = pd.read_excel('EMPANADA Data Files Key.xlsx')\n",
    "\n",
    "originalNames = nameData['Original File Name:']\n",
    "newNames = nameData['New File Name:']\n",
    "\n",
    "for i in range(len(originalNames)):\n",
    "    try:\n",
    "        os.rename(f'{originalNames[i]}', f'{newNames}')\n",
    "        print(f'Renamed file {originalNames[i]} to {newNames[i]}')\n",
    "    except:\n",
    "        print(f'File {originalNames[i]} not found')"
   ]
  },
  {
   "cell_type": "code",
   "execution_count": null,
   "metadata": {},
   "outputs": [],
   "source": []
  }
 ],
 "metadata": {
  "kernelspec": {
   "display_name": "Python 3",
   "language": "python",
   "name": "python3"
  },
  "language_info": {
   "codemirror_mode": {
    "name": "ipython",
    "version": 3
   },
   "file_extension": ".py",
   "mimetype": "text/x-python",
   "name": "python",
   "nbconvert_exporter": "python",
   "pygments_lexer": "ipython3",
   "version": "3.8.1"
  }
 },
 "nbformat": 4,
 "nbformat_minor": 4
}
